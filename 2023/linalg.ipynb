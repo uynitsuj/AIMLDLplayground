{
 "cells": [
  {
   "cell_type": "markdown",
   "metadata": {},
   "source": [
    "# Intuitions & Computational Insights"
   ]
  },
  {
   "cell_type": "code",
   "execution_count": 92,
   "metadata": {},
   "outputs": [],
   "source": [
    "import numpy as np\n"
   ]
  },
  {
   "cell_type": "markdown",
   "metadata": {},
   "source": [
    "## Hadamard Product\n",
    "numpy's np.multiply() function returns the Hadamard Product (element-wise). \n",
    "\n",
    "The * operator can be used as a shorthand for np.multiply on ndarrays. \n",
    "\n",
    "**Don't confuse it for matrix multiplication operation**"
   ]
  },
  {
   "cell_type": "code",
   "execution_count": 114,
   "metadata": {},
   "outputs": [
    {
     "name": "stdout",
     "output_type": "stream",
     "text": [
      "A*B: \n",
      "[[1 0 3]\n",
      " [0 1 0]]\n"
     ]
    }
   ],
   "source": [
    "A = np.array([[1, 2, 3],\n",
    "              [0, 1, 0]])\n",
    "B = np.array([[1, 0, 1], \n",
    "              [0, 1, 1]])\n",
    "print(\"A*B: \") \n",
    "print(A*B)"
   ]
  },
  {
   "cell_type": "markdown",
   "metadata": {},
   "source": [
    "# Norms\n",
    "\n",
    "Formally, $L_p$ norm is defined as:\n",
    "$$\\|\\boldsymbol{x}\\|_p=\\left(\\sum_i\\left|x_i\\right|^p\\right)^{\\frac{1}{p}}$$\n"
   ]
  },
  {
   "cell_type": "markdown",
   "metadata": {},
   "source": [
    "## $L_1$ Norm\n",
    "The $L_1$ norm is commonly used in machine learning when the diﬀerence between zero and nonzero elements is very important. Every time an element of x moves away from 0 by $\\epsilon$, the $L_1$ norm increases by $\\epsilon$."
   ]
  },
  {
   "cell_type": "code",
   "execution_count": 94,
   "metadata": {},
   "outputs": [
    {
     "name": "stdout",
     "output_type": "stream",
     "text": [
      "a: \n",
      "[1 0 2]\n",
      "L1 norm of a, l1norm = 3\n",
      "np.linalg.norm(a, ord=1) == l1norm: True\n"
     ]
    }
   ],
   "source": [
    "# L_1 norm for vectors\n",
    "a = np.array([1, 0, 2])\n",
    "print(\"a: \")\n",
    "print(a)\n",
    "l1norm = (sum(list(map(lambda n: n, np.nditer(a)))))\n",
    "print(\"L1 norm of a, l1norm = \" + str(l1norm))\n",
    "print(\"np.linalg.norm(a, ord=1) == l1norm: \" + str(np.linalg.norm(a, ord=1) == l1norm))\n"
   ]
  },
  {
   "cell_type": "markdown",
   "metadata": {},
   "source": [
    "## $L_2$ Norm\n",
    "The $L_2$ norm is known as the Euclidean norm, which is simply the Euclidean distance from the origin to the point identiﬁed by x. \n",
    "\n",
    "Denoted simply as $||x||$ with the subscript 2 omitted. \n",
    "\n",
    "Numpy's np.linalg.norm() function defaults to $L_2$ norm for vectors and Frobenius norm for matricies\n",
    "\n",
    "## Frobenius Norm\n",
    "$$\\|A\\|_F=\\sqrt{\\sum_{i, j} A_{i, j}^2}$$"
   ]
  },
  {
   "cell_type": "code",
   "execution_count": 95,
   "metadata": {},
   "outputs": [
    {
     "name": "stdout",
     "output_type": "stream",
     "text": [
      "b: \n",
      "[1 0 2]\n",
      "L2 norm of b, l2norm = 2.23606797749979\n",
      "np.linalg.norm(b) == l2norm: True\n",
      "\n",
      "\n",
      "M: \n",
      "[[1 2 3]\n",
      " [0 1 0]]\n",
      "Fronebius norm of M, frnorm = 3.872983346207417\n",
      "np.linalg.norm(M) == frnorm: True\n"
     ]
    }
   ],
   "source": [
    "# numpy defaults to L_2 norm for vectors\n",
    "b = np.array([1, 0, 2])\n",
    "print(\"b: \")\n",
    "print(b)\n",
    "l2norm = (sum(list(map(lambda n: n ** 2, np.nditer(b))))**0.5)\n",
    "print(\"L2 norm of b, l2norm = \" + str(l2norm))\n",
    "print(\"np.linalg.norm(b) == l2norm: \" + str(np.linalg.norm(b) == l2norm))\n",
    "print(\"\\n\")\n",
    "\n",
    "# numpy defaults to Frobenius norm for matricies\n",
    "M = np.array([[1, 2, 3],\n",
    "              [0, 1, 0]])\n",
    "print(\"M: \")\n",
    "print(M)\n",
    "frnorm = (sum(list(map(lambda n: n ** 2, np.nditer(M))))**0.5)\n",
    "print(\"Fronebius norm of M, frnorm = \" + str(frnorm))\n",
    "print(\"np.linalg.norm(M) == frnorm: \"+str(np.linalg.norm(M) == frnorm))\n"
   ]
  },
  {
   "cell_type": "markdown",
   "metadata": {},
   "source": [
    "It is also common to measure the size of a vector using the **squared** $L_2$ norm, which can be calculated simply as $x^Tx$."
   ]
  },
  {
   "cell_type": "code",
   "execution_count": 96,
   "metadata": {},
   "outputs": [
    {
     "name": "stdout",
     "output_type": "stream",
     "text": [
      "Squared L2 norm of b, or b transpose b: 5\n",
      "np.isclose(np.linalg.norm(b)**2, b.T.dot(b)): True\n"
     ]
    }
   ],
   "source": [
    "print(\"Squared L2 norm of b, or b transpose b: \" + str(b.T.dot(b)))\n",
    "print(\"np.isclose(np.linalg.norm(b)**2, b.T.dot(b)): \" +\n",
    "      str(np.isclose(np.linalg.norm(b)**2, b.T.dot(b))))\n"
   ]
  },
  {
   "cell_type": "markdown",
   "metadata": {},
   "source": [
    "## \"$L_0$ Norm\"\n",
    "We sometimes measure the size of the vector by counting its number of nonzero elements. Some authors refer to this function as the “$L_0$ norm,” but this is incorrect terminology. The number of nonzero entries in a vector is not a norm, because scaling the vector by $α$ does not change the number of nonzero entries. The $L_0$ norm is often used as a substitute for the number of nonzero entries."
   ]
  },
  {
   "cell_type": "code",
   "execution_count": 113,
   "metadata": {},
   "outputs": [
    {
     "name": "stdout",
     "output_type": "stream",
     "text": [
      "b: \n",
      "[1 0 2]\n",
      "L0 norm of b, l0norm_b = 2\n",
      "np.linalg.norm(b, ord=0) == l0norm_b: True\n",
      "\n",
      "\n",
      "M: \n",
      "[[1 2 3]\n",
      " [0 1 0]]\n",
      "L0 norm of M, l0norm_M = 4\n",
      "Invalid norm order for matrices.\n",
      "\n",
      "\n"
     ]
    }
   ],
   "source": [
    "# numpy norm function with ord=0 gives L_0 norm for vectors\n",
    "print(\"b: \")\n",
    "print(b)\n",
    "l0norm_b = (sum(list(map(lambda n: 1 if n != 0 else 0, np.nditer(b)))))\n",
    "print(\"L0 norm of b, l0norm_b = \" + str(l0norm_b))\n",
    "print(\"np.linalg.norm(b, ord=0) == l0norm_b: \" +\n",
    "      str(np.linalg.norm(b, ord=0) == l0norm_b))\n",
    "\n",
    "print('\\n')\n",
    "\n",
    "print(\"M: \")\n",
    "print(M)\n",
    "l0norm_M = (sum(list(map(lambda n: 1 if n != 0 else 0, np.nditer(M)))))\n",
    "print(\"L0 norm of M, l0norm_M = \" + str(l0norm_M))\n",
    "# however is undefined for matricies\n",
    "try:\n",
    "    print(\"np.linalg.norm(M, ord=0) == l0norm_M: \" +\n",
    "      str(np.linalg.norm(M, ord=0) == l0norm_M))\n",
    "except Exception as e:\n",
    "    print(e)\n",
    "    \n",
    "print(\"\\n\")\n"
   ]
  },
  {
   "cell_type": "code",
   "execution_count": null,
   "metadata": {},
   "outputs": [],
   "source": []
  }
 ],
 "metadata": {
  "kernelspec": {
   "display_name": "Python 3.11.2 64-bit",
   "language": "python",
   "name": "python3"
  },
  "language_info": {
   "codemirror_mode": {
    "name": "ipython",
    "version": 3
   },
   "file_extension": ".py",
   "mimetype": "text/x-python",
   "name": "python",
   "nbconvert_exporter": "python",
   "pygments_lexer": "ipython3",
   "version": "3.11.2"
  },
  "orig_nbformat": 4,
  "vscode": {
   "interpreter": {
    "hash": "b0fa6594d8f4cbf19f97940f81e996739fb7646882a419484c72d19e05852a7e"
   }
  }
 },
 "nbformat": 4,
 "nbformat_minor": 2
}
