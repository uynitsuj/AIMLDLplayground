{
 "cells": [
  {
   "cell_type": "markdown",
   "metadata": {},
   "source": [
    "## Intuitions & Computational Insights"
   ]
  },
  {
   "cell_type": "code",
   "execution_count": 22,
   "metadata": {},
   "outputs": [],
   "source": [
    "import numpy as np\n"
   ]
  },
  {
   "cell_type": "markdown",
   "metadata": {},
   "source": [
    "### Hadamard Product\n",
    "numpy's np.multiply() function returns the Hadamard Product (element-wise). \n",
    "\n",
    "The * operator can be used as a shorthand for np.multiply on ndarrays. \n",
    "\n",
    "**Don't confuse it for matrix multiplication operation**"
   ]
  },
  {
   "cell_type": "code",
   "execution_count": 23,
   "metadata": {},
   "outputs": [
    {
     "name": "stdout",
     "output_type": "stream",
     "text": [
      "A*B: \n"
     ]
    },
    {
     "data": {
      "text/plain": [
       "array([[1, 0, 3],\n",
       "       [0, 1, 0]])"
      ]
     },
     "execution_count": 23,
     "metadata": {},
     "output_type": "execute_result"
    }
   ],
   "source": [
    "A = np.array([[1, 2, 3],\n",
    "              [0, 1, 0]])\n",
    "B = np.array([[1, 0, 1], \n",
    "              [0, 1, 1]])\n",
    "print(\"A*B: \") \n",
    "A*B"
   ]
  },
  {
   "cell_type": "markdown",
   "metadata": {},
   "source": [
    "### Norms\n",
    "\n",
    "Formally, $L_p$ norm is defined as:\n",
    "$$\\|\\boldsymbol{x}\\|_p=\\left(\\sum_i\\left|x_i\\right|^p\\right)^{\\frac{1}{p}}$$\n"
   ]
  },
  {
   "cell_type": "markdown",
   "metadata": {},
   "source": [
    "The $L_1$ norm is commonly used in machine learning when the diﬀerence between zero and nonzero elements is very important. Every time an element of x movesaway from 0 by $\\epsilon$, the $L_1$ norm increases by $\\epsilon$."
   ]
  },
  {
   "cell_type": "code",
   "execution_count": null,
   "metadata": {},
   "outputs": [],
   "source": []
  },
  {
   "cell_type": "markdown",
   "metadata": {},
   "source": [
    "The $L_2$ norm is known as the Euclidean norm, which is simply the Euclidean distance from the origin to the point identiﬁed by x. \n",
    "\n",
    "Denoted simply as $||x||$ with the subscript 2 omitted. \n",
    "\n",
    "Numpy's np.linalg.norm() function defaults to $L_2$ norm for vectors and Frobenius norm for matricies\n",
    "\n",
    "Frobenius norm:\n",
    "$$\\|A\\|_F=\\sqrt{\\sum_{i, j} A_{i, j}^2}$$"
   ]
  },
  {
   "cell_type": "code",
   "execution_count": 70,
   "metadata": {},
   "outputs": [
    {
     "name": "stdout",
     "output_type": "stream",
     "text": [
      "B: \n",
      "[1 0 2]\n",
      "L2 norm of B, l2norm = 2.23606797749979\n",
      "np.linalg.norm(B) == l2norm: True\n",
      "\n",
      "\n",
      "M: \n",
      "[[1 2 3]\n",
      " [0 1 0]]\n",
      "Fronebius norm of M, frnorm = 3.872983346207417\n",
      "np.linalg.norm(M) == frnorm: True\n"
     ]
    }
   ],
   "source": [
    "# numpy defaults to L_2 norm for vectors\n",
    "B = np.array([1, 0, 2])\n",
    "print(\"B: \")\n",
    "print(B)\n",
    "l2norm = (sum(list(map(lambda n: n ** 2, np.nditer(B))))**0.5)\n",
    "print(\"L2 norm of B, l2norm = \" + str(l2norm))\n",
    "print(\"np.linalg.norm(B) == l2norm: \" + str(np.linalg.norm(B) == l2norm))\n",
    "print(\"\\n\")\n",
    "\n",
    "# numpy defaults to Frobenius norm for matricies\n",
    "M = np.array([[1, 2, 3],\n",
    "              [0, 1, 0]])\n",
    "print(\"M: \")\n",
    "print(M)\n",
    "frnorm = (sum(list(map(lambda n: n ** 2, np.nditer(M))))**0.5)\n",
    "print(\"Fronebius norm of M, frnorm = \" + str(frnorm))\n",
    "print(\"np.linalg.norm(M) == frnorm: \"+str(np.linalg.norm(M) == frnorm))\n"
   ]
  },
  {
   "cell_type": "markdown",
   "metadata": {},
   "source": [
    "It is also common to measure the size of a vectorusing the **squared** $L_2$ norm, which can be calculated simply as $x^Tx$."
   ]
  },
  {
   "cell_type": "code",
   "execution_count": 71,
   "metadata": {},
   "outputs": [
    {
     "name": "stdout",
     "output_type": "stream",
     "text": [
      "Squared L2 norm of B, or B transpose B: 5\n",
      "np.isclose(np.linalg.norm(B)**2, B.T.dot(B)): True\n"
     ]
    }
   ],
   "source": [
    "print(\"Squared L2 norm of B, or B transpose B: \" + str(B.T.dot(B)))\n",
    "print(\"np.isclose(np.linalg.norm(B)**2, B.T.dot(B)): \" +\n",
    "      str(np.isclose(np.linalg.norm(B)**2, B.T.dot(B))))\n"
   ]
  },
  {
   "cell_type": "code",
   "execution_count": null,
   "metadata": {},
   "outputs": [],
   "source": []
  }
 ],
 "metadata": {
  "kernelspec": {
   "display_name": "Python 3.11.2 64-bit",
   "language": "python",
   "name": "python3"
  },
  "language_info": {
   "codemirror_mode": {
    "name": "ipython",
    "version": 3
   },
   "file_extension": ".py",
   "mimetype": "text/x-python",
   "name": "python",
   "nbconvert_exporter": "python",
   "pygments_lexer": "ipython3",
   "version": "3.11.2"
  },
  "orig_nbformat": 4,
  "vscode": {
   "interpreter": {
    "hash": "b0fa6594d8f4cbf19f97940f81e996739fb7646882a419484c72d19e05852a7e"
   }
  }
 },
 "nbformat": 4,
 "nbformat_minor": 2
}
