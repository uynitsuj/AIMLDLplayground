{
 "cells": [
  {
   "cell_type": "code",
   "execution_count": 2,
   "metadata": {},
   "outputs": [],
   "source": [
    "import torch\n",
    "import torchvision\n"
   ]
  },
  {
   "cell_type": "code",
   "execution_count": 3,
   "metadata": {},
   "outputs": [
    {
     "data": {
      "text/plain": [
       "<torch._C.Generator at 0x11ad069d0>"
      ]
     },
     "execution_count": 3,
     "metadata": {},
     "output_type": "execute_result"
    }
   ],
   "source": [
    "n_epochs = 3\n",
    "batch_size_train = 64\n",
    "batch_size_test = 1000\n",
    "learning_rate = 0.01\n",
    "momentum = 0.5\n",
    "log_interval = 10\n",
    "\n",
    "random_seed = 1\n",
    "torch.backends.cudnn.enabled = False\n",
    "torch.manual_seed(random_seed)"
   ]
  },
  {
   "cell_type": "code",
   "execution_count": 5,
   "metadata": {},
   "outputs": [
    {
     "name": "stdout",
     "output_type": "stream",
     "text": [
      "Downloading http://yann.lecun.com/exdb/mnist/train-images-idx3-ubyte.gz\n",
      "Downloading http://yann.lecun.com/exdb/mnist/train-images-idx3-ubyte.gz to ./files/MNIST/raw/train-images-idx3-ubyte.gz\n"
     ]
    },
    {
     "name": "stderr",
     "output_type": "stream",
     "text": [
      "100.0%\n"
     ]
    },
    {
     "name": "stdout",
     "output_type": "stream",
     "text": [
      "Extracting ./files/MNIST/raw/train-images-idx3-ubyte.gz to ./files/MNIST/raw\n"
     ]
    },
    {
     "name": "stderr",
     "output_type": "stream",
     "text": [
      "100.0%"
     ]
    },
    {
     "name": "stdout",
     "output_type": "stream",
     "text": [
      "\n",
      "Downloading http://yann.lecun.com/exdb/mnist/train-labels-idx1-ubyte.gz\n",
      "Downloading http://yann.lecun.com/exdb/mnist/train-labels-idx1-ubyte.gz to ./files/MNIST/raw/train-labels-idx1-ubyte.gz\n",
      "Extracting ./files/MNIST/raw/train-labels-idx1-ubyte.gz to ./files/MNIST/raw\n",
      "\n",
      "Downloading http://yann.lecun.com/exdb/mnist/t10k-images-idx3-ubyte.gz\n"
     ]
    },
    {
     "name": "stderr",
     "output_type": "stream",
     "text": [
      "\n",
      "15.9%"
     ]
    },
    {
     "name": "stdout",
     "output_type": "stream",
     "text": [
      "Downloading http://yann.lecun.com/exdb/mnist/t10k-images-idx3-ubyte.gz to ./files/MNIST/raw/t10k-images-idx3-ubyte.gz\n"
     ]
    },
    {
     "name": "stderr",
     "output_type": "stream",
     "text": [
      "100.0%\n",
      "100.0%\n"
     ]
    },
    {
     "name": "stdout",
     "output_type": "stream",
     "text": [
      "Extracting ./files/MNIST/raw/t10k-images-idx3-ubyte.gz to ./files/MNIST/raw\n",
      "\n",
      "Downloading http://yann.lecun.com/exdb/mnist/t10k-labels-idx1-ubyte.gz\n",
      "Downloading http://yann.lecun.com/exdb/mnist/t10k-labels-idx1-ubyte.gz to ./files/MNIST/raw/t10k-labels-idx1-ubyte.gz\n",
      "Extracting ./files/MNIST/raw/t10k-labels-idx1-ubyte.gz to ./files/MNIST/raw\n",
      "\n"
     ]
    }
   ],
   "source": [
    "train_loader = torch.utils.data.DataLoader(\n",
    "  torchvision.datasets.MNIST('./files/', train=True, download=True,\n",
    "                             transform=torchvision.transforms.Compose([\n",
    "                               torchvision.transforms.ToTensor(),\n",
    "                               torchvision.transforms.Normalize(\n",
    "                                 (0.1307,), (0.3081,))\n",
    "                             ])),\n",
    "  batch_size=batch_size_train, shuffle=True)\n",
    "\n",
    "test_loader = torch.utils.data.DataLoader(\n",
    "  torchvision.datasets.MNIST('./files/', train=False, download=True,\n",
    "                             transform=torchvision.transforms.Compose([\n",
    "                               torchvision.transforms.ToTensor(),\n",
    "                               torchvision.transforms.Normalize(\n",
    "                                 (0.1307,), (0.3081,))\n",
    "                             ])),\n",
    "  batch_size=batch_size_test, shuffle=True)"
   ]
  },
  {
   "cell_type": "code",
   "execution_count": 6,
   "metadata": {},
   "outputs": [],
   "source": [
    "examples = enumerate(test_loader)\n",
    "batch_idx, (example_data, example_targets) = next(examples)"
   ]
  },
  {
   "cell_type": "code",
   "execution_count": 7,
   "metadata": {},
   "outputs": [
    {
     "data": {
      "text/plain": [
       "torch.Size([1000, 1, 28, 28])"
      ]
     },
     "execution_count": 7,
     "metadata": {},
     "output_type": "execute_result"
    }
   ],
   "source": [
    "example_data.shape"
   ]
  },
  {
   "cell_type": "code",
   "execution_count": 8,
   "metadata": {},
   "outputs": [
    {
     "data": {
      "image/png": "[encoded data removed]",
      "text/plain": [
       "<Figure size 640x480 with 6 Axes>"
      ]
     },
     "execution_count": 8,
     "metadata": {},
     "output_type": "execute_result"
    },
    {
     "data": {
      "image/png": "[encoded data removed]",
      "text/plain": [
       "<Figure size 640x480 with 6 Axes>"
      ]
     },
     "metadata": {},
     "output_type": "display_data"
    }
   ],
   "source": [
    "import matplotlib.pyplot as plt\n",
    "\n",
    "fig = plt.figure()\n",
    "for i in range(6):\n",
    "  plt.subplot(2,3,i+1)\n",
    "  plt.tight_layout()\n",
    "  plt.imshow(example_data[i][0], cmap='gray', interpolation='none')\n",
    "  plt.title(\"Ground Truth: {}\".format(example_targets[i]))\n",
    "  plt.xticks([])\n",
    "  plt.yticks([])\n",
    "fig"
   ]
  },
  {
   "cell_type": "code",
   "execution_count": 9,
   "metadata": {},
   "outputs": [],
   "source": [
    "import torch.nn as nn\n",
    "import torch.nn.functional as F\n",
    "import torch.optim as optim"
   ]
  },
  {
   "cell_type": "code",
   "execution_count": 10,
   "metadata": {},
   "outputs": [],
   "source": [
    "class Net(nn.Module):\n",
    "    def __init__(self):\n",
    "        super(Net, self).__init__()\n",
    "        self.conv1 = nn.Conv2d(1, 10, kernel_size=5)\n",
    "        self.conv2 = nn.Conv2d(10, 20, kernel_size=5)\n",
    "        self.conv2_drop = nn.Dropout2d()\n",
    "        self.fc1 = nn.Linear(320, 50)\n",
    "        self.fc2 = nn.Linear(50, 10)\n",
    "\n",
    "    def forward(self, x):\n",
    "        x = F.relu(F.max_pool2d(self.conv1(x), 2))\n",
    "        x = F.relu(F.max_pool2d(self.conv2_drop(self.conv2(x)), 2))\n",
    "        x = x.view(-1, 320)\n",
    "        x = F.relu(self.fc1(x))\n",
    "        x = F.dropout(x, training=self.training)\n",
    "        x = self.fc2(x)\n",
    "        return F.log_softmax(x)"
   ]
  },
  {
   "cell_type": "code",
   "execution_count": 11,
   "metadata": {},
   "outputs": [],
   "source": [
    "network = Net()\n",
    "optimizer = optim.SGD(network.parameters(), lr=learning_rate,\n",
    "                      momentum=momentum)"
   ]
  },
  {
   "cell_type": "code",
   "execution_count": 12,
   "metadata": {},
   "outputs": [],
   "source": [
    "train_losses = []\n",
    "train_counter = []\n",
    "test_losses = []\n",
    "test_counter = [i*len(train_loader.dataset) for i in range(n_epochs + 1)]"
   ]
  },
  {
   "cell_type": "code",
   "execution_count": 16,
   "metadata": {},
   "outputs": [],
   "source": [
    "def train(epoch):\n",
    "  network.train()\n",
    "  for batch_idx, (data, target) in enumerate(train_loader):\n",
    "    optimizer.zero_grad()\n",
    "    output = network(data)\n",
    "    loss = F.nll_loss(output, target)\n",
    "    loss.backward()\n",
    "    optimizer.step()\n",
    "    if batch_idx % log_interval == 0:\n",
    "      print('Train Epoch: {} [{}/{} ({:.0f}%)]\\tLoss: {:.6f}'.format(\n",
    "        epoch, batch_idx * len(data), len(train_loader.dataset),\n",
    "        100. * batch_idx / len(train_loader), loss.item()))\n",
    "      train_losses.append(loss.item())\n",
    "      train_counter.append(\n",
    "        (batch_idx*64) + ((epoch-1)*len(train_loader.dataset)))\n",
    "      torch.save(network.state_dict(), './results/model.pth')\n",
    "      torch.save(optimizer.state_dict(), './results/optimizer.pth')"
   ]
  },
  {
   "cell_type": "code",
   "execution_count": 17,
   "metadata": {},
   "outputs": [],
   "source": [
    "def test():\n",
    "  network.eval()\n",
    "  test_loss = 0\n",
    "  correct = 0\n",
    "  with torch.no_grad():\n",
    "    for data, target in test_loader:\n",
    "      output = network(data)\n",
    "      test_loss += F.nll_loss(output, target, size_average=False).item()\n",
    "      pred = output.data.max(1, keepdim=True)[1]\n",
    "      correct += pred.eq(target.data.view_as(pred)).sum()\n",
    "  test_loss /= len(test_loader.dataset)\n",
    "  test_losses.append(test_loss)\n",
    "  print('\\nTest set: Avg. loss: {:.4f}, Accuracy: {}/{} ({:.0f}%)\\n'.format(\n",
    "    test_loss, correct, len(test_loader.dataset),\n",
    "    100. * correct / len(test_loader.dataset)))"
   ]
  },
  {
   "cell_type": "code",
   "execution_count": 19,
   "metadata": {},
   "outputs": [
    {
     "name": "stderr",
     "output_type": "stream",
     "text": [
      "/var/folders/pn/jylzr45542n716q7kf2ywrc00000gn/T/ipykernel_18608/161431047.py:17: UserWarning: Implicit dimension choice for log_softmax has been deprecated. Change the call to include dim=X as an argument.\n",
      "  return F.log_softmax(x)\n"
     ]
    },
    {
     "name": "stdout",
     "output_type": "stream",
     "text": [
      "\n",
      "Test set: Avg. loss: 2.3066, Accuracy: 875/10000 (9%)\n",
      "\n",
      "Train Epoch: 1 [0/60000 (0%)]\tLoss: 2.319715\n",
      "Train Epoch: 1 [640/60000 (1%)]\tLoss: 2.295023\n",
      "Train Epoch: 1 [1280/60000 (2%)]\tLoss: 2.303525\n",
      "Train Epoch: 1 [1920/60000 (3%)]\tLoss: 2.260523\n",
      "Train Epoch: 1 [2560/60000 (4%)]\tLoss: 2.234916\n",
      "Train Epoch: 1 [3200/60000 (5%)]\tLoss: 2.238791\n",
      "Train Epoch: 1 [3840/60000 (6%)]\tLoss: 2.219527\n",
      "Train Epoch: 1 [4480/60000 (7%)]\tLoss: 2.170977\n",
      "Train Epoch: 1 [5120/60000 (9%)]\tLoss: 2.098501\n",
      "Train Epoch: 1 [5760/60000 (10%)]\tLoss: 1.887531\n",
      "Train Epoch: 1 [6400/60000 (11%)]\tLoss: 2.019411\n",
      "Train Epoch: 1 [7040/60000 (12%)]\tLoss: 1.866884\n",
      "Train Epoch: 1 [7680/60000 (13%)]\tLoss: 1.729375\n",
      "Train Epoch: 1 [8320/60000 (14%)]\tLoss: 1.612884\n",
      "Train Epoch: 1 [8960/60000 (15%)]\tLoss: 1.509504\n",
      "Train Epoch: 1 [9600/60000 (16%)]\tLoss: 1.537389\n",
      "Train Epoch: 1 [10240/60000 (17%)]\tLoss: 1.579883\n",
      "Train Epoch: 1 [10880/60000 (18%)]\tLoss: 1.330655\n",
      "Train Epoch: 1 [11520/60000 (19%)]\tLoss: 1.092838\n",
      "Train Epoch: 1 [12160/60000 (20%)]\tLoss: 1.123299\n",
      "Train Epoch: 1 [12800/60000 (21%)]\tLoss: 0.854314\n",
      "Train Epoch: 1 [13440/60000 (22%)]\tLoss: 0.896404\n",
      "Train Epoch: 1 [14080/60000 (23%)]\tLoss: 1.002588\n",
      "Train Epoch: 1 [14720/60000 (25%)]\tLoss: 0.924797\n",
      "Train Epoch: 1 [15360/60000 (26%)]\tLoss: 0.874207\n",
      "Train Epoch: 1 [16000/60000 (27%)]\tLoss: 1.071568\n",
      "Train Epoch: 1 [16640/60000 (28%)]\tLoss: 0.930021\n",
      "Train Epoch: 1 [17280/60000 (29%)]\tLoss: 0.832352\n",
      "Train Epoch: 1 [17920/60000 (30%)]\tLoss: 0.813511\n",
      "Train Epoch: 1 [18560/60000 (31%)]\tLoss: 0.866124\n",
      "Train Epoch: 1 [19200/60000 (32%)]\tLoss: 1.048446\n",
      "Train Epoch: 1 [19840/60000 (33%)]\tLoss: 0.838239\n",
      "Train Epoch: 1 [20480/60000 (34%)]\tLoss: 0.878444\n",
      "Train Epoch: 1 [21120/60000 (35%)]\tLoss: 0.802894\n",
      "Train Epoch: 1 [21760/60000 (36%)]\tLoss: 0.677118\n",
      "Train Epoch: 1 [22400/60000 (37%)]\tLoss: 0.675793\n",
      "Train Epoch: 1 [23040/60000 (38%)]\tLoss: 0.811159\n",
      "Train Epoch: 1 [23680/60000 (39%)]\tLoss: 0.787656\n",
      "Train Epoch: 1 [24320/60000 (41%)]\tLoss: 0.790122\n",
      "Train Epoch: 1 [24960/60000 (42%)]\tLoss: 0.828619\n",
      "Train Epoch: 1 [25600/60000 (43%)]\tLoss: 0.717102\n",
      "Train Epoch: 1 [26240/60000 (44%)]\tLoss: 0.881592\n",
      "Train Epoch: 1 [26880/60000 (45%)]\tLoss: 0.779497\n",
      "Train Epoch: 1 [27520/60000 (46%)]\tLoss: 0.576828\n",
      "Train Epoch: 1 [28160/60000 (47%)]\tLoss: 0.629109\n",
      "Train Epoch: 1 [28800/60000 (48%)]\tLoss: 0.676726\n",
      "Train Epoch: 1 [29440/60000 (49%)]\tLoss: 0.578002\n",
      "Train Epoch: 1 [30080/60000 (50%)]\tLoss: 0.575162\n",
      "Train Epoch: 1 [30720/60000 (51%)]\tLoss: 0.501628\n",
      "Train Epoch: 1 [31360/60000 (52%)]\tLoss: 0.507436\n",
      "Train Epoch: 1 [32000/60000 (53%)]\tLoss: 0.730053\n",
      "Train Epoch: 1 [32640/60000 (54%)]\tLoss: 0.497524\n",
      "Train Epoch: 1 [33280/60000 (55%)]\tLoss: 0.430526\n",
      "Train Epoch: 1 [33920/60000 (57%)]\tLoss: 0.701425\n",
      "Train Epoch: 1 [34560/60000 (58%)]\tLoss: 0.337150\n",
      "Train Epoch: 1 [35200/60000 (59%)]\tLoss: 0.533307\n",
      "Train Epoch: 1 [35840/60000 (60%)]\tLoss: 0.632346\n",
      "Train Epoch: 1 [36480/60000 (61%)]\tLoss: 0.654771\n",
      "Train Epoch: 1 [37120/60000 (62%)]\tLoss: 0.604809\n",
      "Train Epoch: 1 [37760/60000 (63%)]\tLoss: 0.458969\n",
      "Train Epoch: 1 [38400/60000 (64%)]\tLoss: 0.410921\n",
      "Train Epoch: 1 [39040/60000 (65%)]\tLoss: 0.839750\n",
      "Train Epoch: 1 [39680/60000 (66%)]\tLoss: 0.374029\n",
      "Train Epoch: 1 [40320/60000 (67%)]\tLoss: 0.498627\n",
      "Train Epoch: 1 [40960/60000 (68%)]\tLoss: 0.606248\n",
      "Train Epoch: 1 [41600/60000 (69%)]\tLoss: 0.675607\n",
      "Train Epoch: 1 [42240/60000 (70%)]\tLoss: 0.551954\n",
      "Train Epoch: 1 [42880/60000 (71%)]\tLoss: 0.371480\n",
      "Train Epoch: 1 [43520/60000 (72%)]\tLoss: 0.448882\n",
      "Train Epoch: 1 [44160/60000 (74%)]\tLoss: 0.489254\n",
      "Train Epoch: 1 [44800/60000 (75%)]\tLoss: 0.518148\n",
      "Train Epoch: 1 [45440/60000 (76%)]\tLoss: 0.415681\n",
      "Train Epoch: 1 [46080/60000 (77%)]\tLoss: 0.374605\n",
      "Train Epoch: 1 [46720/60000 (78%)]\tLoss: 0.334849\n",
      "Train Epoch: 1 [47360/60000 (79%)]\tLoss: 0.549483\n",
      "Train Epoch: 1 [48000/60000 (80%)]\tLoss: 0.721015\n",
      "Train Epoch: 1 [48640/60000 (81%)]\tLoss: 0.378550\n",
      "Train Epoch: 1 [49280/60000 (82%)]\tLoss: 0.520992\n",
      "Train Epoch: 1 [49920/60000 (83%)]\tLoss: 0.395018\n",
      "Train Epoch: 1 [50560/60000 (84%)]\tLoss: 0.399801\n",
      "Train Epoch: 1 [51200/60000 (85%)]\tLoss: 0.290284\n",
      "Train Epoch: 1 [51840/60000 (86%)]\tLoss: 0.393178\n",
      "Train Epoch: 1 [52480/60000 (87%)]\tLoss: 0.422012\n",
      "Train Epoch: 1 [53120/60000 (88%)]\tLoss: 0.464532\n",
      "Train Epoch: 1 [53760/60000 (90%)]\tLoss: 0.633347\n",
      "Train Epoch: 1 [54400/60000 (91%)]\tLoss: 0.900127\n",
      "Train Epoch: 1 [55040/60000 (92%)]\tLoss: 0.495950\n",
      "Train Epoch: 1 [55680/60000 (93%)]\tLoss: 0.405936\n",
      "Train Epoch: 1 [56320/60000 (94%)]\tLoss: 0.402706\n",
      "Train Epoch: 1 [56960/60000 (95%)]\tLoss: 0.353522\n",
      "Train Epoch: 1 [57600/60000 (96%)]\tLoss: 0.513547\n",
      "Train Epoch: 1 [58240/60000 (97%)]\tLoss: 0.457770\n",
      "Train Epoch: 1 [58880/60000 (98%)]\tLoss: 0.510834\n",
      "Train Epoch: 1 [59520/60000 (99%)]\tLoss: 0.405336\n",
      "\n",
      "Test set: Avg. loss: 0.1884, Accuracy: 9458/10000 (95%)\n",
      "\n",
      "Train Epoch: 2 [0/60000 (0%)]\tLoss: 0.259466\n",
      "Train Epoch: 2 [640/60000 (1%)]\tLoss: 0.550993\n",
      "Train Epoch: 2 [1280/60000 (2%)]\tLoss: 0.597966\n",
      "Train Epoch: 2 [1920/60000 (3%)]\tLoss: 0.370456\n",
      "Train Epoch: 2 [2560/60000 (4%)]\tLoss: 0.366727\n",
      "Train Epoch: 2 [3200/60000 (5%)]\tLoss: 0.418963\n",
      "Train Epoch: 2 [3840/60000 (6%)]\tLoss: 0.460069\n",
      "Train Epoch: 2 [4480/60000 (7%)]\tLoss: 0.422314\n",
      "Train Epoch: 2 [5120/60000 (9%)]\tLoss: 0.342080\n",
      "Train Epoch: 2 [5760/60000 (10%)]\tLoss: 0.414803\n",
      "Train Epoch: 2 [6400/60000 (11%)]\tLoss: 0.334414\n",
      "Train Epoch: 2 [7040/60000 (12%)]\tLoss: 0.460400\n",
      "Train Epoch: 2 [7680/60000 (13%)]\tLoss: 0.363183\n",
      "Train Epoch: 2 [8320/60000 (14%)]\tLoss: 0.431365\n",
      "Train Epoch: 2 [8960/60000 (15%)]\tLoss: 0.341284\n",
      "Train Epoch: 2 [9600/60000 (16%)]\tLoss: 0.346906\n",
      "Train Epoch: 2 [10240/60000 (17%)]\tLoss: 0.309789\n",
      "Train Epoch: 2 [10880/60000 (18%)]\tLoss: 0.403153\n",
      "Train Epoch: 2 [11520/60000 (19%)]\tLoss: 0.436838\n",
      "Train Epoch: 2 [12160/60000 (20%)]\tLoss: 0.243867\n",
      "Train Epoch: 2 [12800/60000 (21%)]\tLoss: 0.406571\n",
      "Train Epoch: 2 [13440/60000 (22%)]\tLoss: 0.352659\n",
      "Train Epoch: 2 [14080/60000 (23%)]\tLoss: 0.302688\n",
      "Train Epoch: 2 [14720/60000 (25%)]\tLoss: 0.405242\n",
      "Train Epoch: 2 [15360/60000 (26%)]\tLoss: 0.372792\n",
      "Train Epoch: 2 [16000/60000 (27%)]\tLoss: 0.428893\n",
      "Train Epoch: 2 [16640/60000 (28%)]\tLoss: 0.799558\n",
      "Train Epoch: 2 [17280/60000 (29%)]\tLoss: 0.431732\n",
      "Train Epoch: 2 [17920/60000 (30%)]\tLoss: 0.204280\n",
      "Train Epoch: 2 [18560/60000 (31%)]\tLoss: 0.475393\n",
      "Train Epoch: 2 [19200/60000 (32%)]\tLoss: 0.593120\n",
      "Train Epoch: 2 [19840/60000 (33%)]\tLoss: 0.505935\n",
      "Train Epoch: 2 [20480/60000 (34%)]\tLoss: 0.477665\n",
      "Train Epoch: 2 [21120/60000 (35%)]\tLoss: 0.258200\n",
      "Train Epoch: 2 [21760/60000 (36%)]\tLoss: 0.594562\n",
      "Train Epoch: 2 [22400/60000 (37%)]\tLoss: 0.506603\n",
      "Train Epoch: 2 [23040/60000 (38%)]\tLoss: 0.336674\n",
      "Train Epoch: 2 [23680/60000 (39%)]\tLoss: 0.373485\n",
      "Train Epoch: 2 [24320/60000 (41%)]\tLoss: 0.314345\n",
      "Train Epoch: 2 [24960/60000 (42%)]\tLoss: 0.420396\n",
      "Train Epoch: 2 [25600/60000 (43%)]\tLoss: 0.301925\n",
      "Train Epoch: 2 [26240/60000 (44%)]\tLoss: 0.321607\n",
      "Train Epoch: 2 [26880/60000 (45%)]\tLoss: 0.418376\n",
      "Train Epoch: 2 [27520/60000 (46%)]\tLoss: 0.288108\n",
      "Train Epoch: 2 [28160/60000 (47%)]\tLoss: 0.447527\n",
      "Train Epoch: 2 [28800/60000 (48%)]\tLoss: 0.317170\n",
      "Train Epoch: 2 [29440/60000 (49%)]\tLoss: 0.341262\n",
      "Train Epoch: 2 [30080/60000 (50%)]\tLoss: 0.600519\n",
      "Train Epoch: 2 [30720/60000 (51%)]\tLoss: 0.274351\n",
      "Train Epoch: 2 [31360/60000 (52%)]\tLoss: 0.712906\n",
      "Train Epoch: 2 [32000/60000 (53%)]\tLoss: 0.431203\n",
      "Train Epoch: 2 [32640/60000 (54%)]\tLoss: 0.363596\n",
      "Train Epoch: 2 [33280/60000 (55%)]\tLoss: 0.294306\n",
      "Train Epoch: 2 [33920/60000 (57%)]\tLoss: 0.355247\n",
      "Train Epoch: 2 [34560/60000 (58%)]\tLoss: 0.389699\n",
      "Train Epoch: 2 [35200/60000 (59%)]\tLoss: 0.243879\n",
      "Train Epoch: 2 [35840/60000 (60%)]\tLoss: 0.365861\n",
      "Train Epoch: 2 [36480/60000 (61%)]\tLoss: 0.424534\n",
      "Train Epoch: 2 [37120/60000 (62%)]\tLoss: 0.546424\n",
      "Train Epoch: 2 [37760/60000 (63%)]\tLoss: 0.443801\n",
      "Train Epoch: 2 [38400/60000 (64%)]\tLoss: 0.294117\n",
      "Train Epoch: 2 [39040/60000 (65%)]\tLoss: 0.355130\n",
      "Train Epoch: 2 [39680/60000 (66%)]\tLoss: 0.242115\n",
      "Train Epoch: 2 [40320/60000 (67%)]\tLoss: 0.225665\n",
      "Train Epoch: 2 [40960/60000 (68%)]\tLoss: 0.402106\n",
      "Train Epoch: 2 [41600/60000 (69%)]\tLoss: 0.372211\n",
      "Train Epoch: 2 [42240/60000 (70%)]\tLoss: 0.305711\n",
      "Train Epoch: 2 [42880/60000 (71%)]\tLoss: 0.294080\n",
      "Train Epoch: 2 [43520/60000 (72%)]\tLoss: 0.315447\n",
      "Train Epoch: 2 [44160/60000 (74%)]\tLoss: 0.527207\n",
      "Train Epoch: 2 [44800/60000 (75%)]\tLoss: 0.290052\n",
      "Train Epoch: 2 [45440/60000 (76%)]\tLoss: 0.209207\n",
      "Train Epoch: 2 [46080/60000 (77%)]\tLoss: 0.204411\n",
      "Train Epoch: 2 [46720/60000 (78%)]\tLoss: 0.222575\n",
      "Train Epoch: 2 [47360/60000 (79%)]\tLoss: 0.427611\n",
      "Train Epoch: 2 [48000/60000 (80%)]\tLoss: 0.377340\n",
      "Train Epoch: 2 [48640/60000 (81%)]\tLoss: 0.129062\n",
      "Train Epoch: 2 [49280/60000 (82%)]\tLoss: 0.405981\n",
      "Train Epoch: 2 [49920/60000 (83%)]\tLoss: 0.198250\n",
      "Train Epoch: 2 [50560/60000 (84%)]\tLoss: 0.240424\n",
      "Train Epoch: 2 [51200/60000 (85%)]\tLoss: 0.280138\n",
      "Train Epoch: 2 [51840/60000 (86%)]\tLoss: 0.323679\n",
      "Train Epoch: 2 [52480/60000 (87%)]\tLoss: 0.267401\n",
      "Train Epoch: 2 [53120/60000 (88%)]\tLoss: 0.164644\n",
      "Train Epoch: 2 [53760/60000 (90%)]\tLoss: 0.427736\n",
      "Train Epoch: 2 [54400/60000 (91%)]\tLoss: 0.707177\n",
      "Train Epoch: 2 [55040/60000 (92%)]\tLoss: 0.382326\n",
      "Train Epoch: 2 [55680/60000 (93%)]\tLoss: 0.241465\n",
      "Train Epoch: 2 [56320/60000 (94%)]\tLoss: 0.301268\n",
      "Train Epoch: 2 [56960/60000 (95%)]\tLoss: 0.297007\n",
      "Train Epoch: 2 [57600/60000 (96%)]\tLoss: 0.521622\n",
      "Train Epoch: 2 [58240/60000 (97%)]\tLoss: 0.315294\n",
      "Train Epoch: 2 [58880/60000 (98%)]\tLoss: 0.402588\n",
      "Train Epoch: 2 [59520/60000 (99%)]\tLoss: 0.437690\n",
      "\n",
      "Test set: Avg. loss: 0.1158, Accuracy: 9653/10000 (97%)\n",
      "\n",
      "Train Epoch: 3 [0/60000 (0%)]\tLoss: 0.174163\n",
      "Train Epoch: 3 [640/60000 (1%)]\tLoss: 0.278670\n",
      "Train Epoch: 3 [1280/60000 (2%)]\tLoss: 0.337346\n",
      "Train Epoch: 3 [1920/60000 (3%)]\tLoss: 0.346200\n",
      "Train Epoch: 3 [2560/60000 (4%)]\tLoss: 0.221630\n",
      "Train Epoch: 3 [3200/60000 (5%)]\tLoss: 0.429250\n",
      "Train Epoch: 3 [3840/60000 (6%)]\tLoss: 0.330914\n",
      "Train Epoch: 3 [4480/60000 (7%)]\tLoss: 0.544723\n",
      "Train Epoch: 3 [5120/60000 (9%)]\tLoss: 0.363330\n",
      "Train Epoch: 3 [5760/60000 (10%)]\tLoss: 0.303895\n",
      "Train Epoch: 3 [6400/60000 (11%)]\tLoss: 0.418839\n",
      "Train Epoch: 3 [7040/60000 (12%)]\tLoss: 0.258800\n",
      "Train Epoch: 3 [7680/60000 (13%)]\tLoss: 0.298729\n",
      "Train Epoch: 3 [8320/60000 (14%)]\tLoss: 0.326207\n",
      "Train Epoch: 3 [8960/60000 (15%)]\tLoss: 0.449514\n",
      "Train Epoch: 3 [9600/60000 (16%)]\tLoss: 0.315791\n",
      "Train Epoch: 3 [10240/60000 (17%)]\tLoss: 0.573339\n",
      "Train Epoch: 3 [10880/60000 (18%)]\tLoss: 0.383254\n",
      "Train Epoch: 3 [11520/60000 (19%)]\tLoss: 0.207142\n",
      "Train Epoch: 3 [12160/60000 (20%)]\tLoss: 0.183862\n",
      "Train Epoch: 3 [12800/60000 (21%)]\tLoss: 0.270311\n",
      "Train Epoch: 3 [13440/60000 (22%)]\tLoss: 0.352510\n",
      "Train Epoch: 3 [14080/60000 (23%)]\tLoss: 0.378330\n",
      "Train Epoch: 3 [14720/60000 (25%)]\tLoss: 0.207161\n",
      "Train Epoch: 3 [15360/60000 (26%)]\tLoss: 0.206598\n",
      "Train Epoch: 3 [16000/60000 (27%)]\tLoss: 0.212975\n",
      "Train Epoch: 3 [16640/60000 (28%)]\tLoss: 0.190961\n",
      "Train Epoch: 3 [17280/60000 (29%)]\tLoss: 0.420834\n",
      "Train Epoch: 3 [17920/60000 (30%)]\tLoss: 0.184744\n",
      "Train Epoch: 3 [18560/60000 (31%)]\tLoss: 0.356411\n",
      "Train Epoch: 3 [19200/60000 (32%)]\tLoss: 0.174701\n",
      "Train Epoch: 3 [19840/60000 (33%)]\tLoss: 0.198426\n",
      "Train Epoch: 3 [20480/60000 (34%)]\tLoss: 0.568492\n",
      "Train Epoch: 3 [21120/60000 (35%)]\tLoss: 0.325072\n",
      "Train Epoch: 3 [21760/60000 (36%)]\tLoss: 0.298267\n",
      "Train Epoch: 3 [22400/60000 (37%)]\tLoss: 0.206733\n",
      "Train Epoch: 3 [23040/60000 (38%)]\tLoss: 0.216728\n",
      "Train Epoch: 3 [23680/60000 (39%)]\tLoss: 0.482172\n",
      "Train Epoch: 3 [24320/60000 (41%)]\tLoss: 0.305437\n",
      "Train Epoch: 3 [24960/60000 (42%)]\tLoss: 0.204848\n",
      "Train Epoch: 3 [25600/60000 (43%)]\tLoss: 0.525059\n",
      "Train Epoch: 3 [26240/60000 (44%)]\tLoss: 0.315212\n",
      "Train Epoch: 3 [26880/60000 (45%)]\tLoss: 0.302689\n",
      "Train Epoch: 3 [27520/60000 (46%)]\tLoss: 0.202602\n",
      "Train Epoch: 3 [28160/60000 (47%)]\tLoss: 0.371403\n",
      "Train Epoch: 3 [28800/60000 (48%)]\tLoss: 0.325866\n",
      "Train Epoch: 3 [29440/60000 (49%)]\tLoss: 0.323311\n",
      "Train Epoch: 3 [30080/60000 (50%)]\tLoss: 0.118742\n",
      "Train Epoch: 3 [30720/60000 (51%)]\tLoss: 0.468902\n",
      "Train Epoch: 3 [31360/60000 (52%)]\tLoss: 0.409635\n",
      "Train Epoch: 3 [32000/60000 (53%)]\tLoss: 0.155252\n",
      "Train Epoch: 3 [32640/60000 (54%)]\tLoss: 0.303228\n",
      "Train Epoch: 3 [33280/60000 (55%)]\tLoss: 0.459531\n",
      "Train Epoch: 3 [33920/60000 (57%)]\tLoss: 0.233496\n",
      "Train Epoch: 3 [34560/60000 (58%)]\tLoss: 0.260926\n",
      "Train Epoch: 3 [35200/60000 (59%)]\tLoss: 0.451538\n",
      "Train Epoch: 3 [35840/60000 (60%)]\tLoss: 0.286121\n",
      "Train Epoch: 3 [36480/60000 (61%)]\tLoss: 0.498113\n",
      "Train Epoch: 3 [37120/60000 (62%)]\tLoss: 0.578087\n",
      "Train Epoch: 3 [37760/60000 (63%)]\tLoss: 0.432486\n",
      "Train Epoch: 3 [38400/60000 (64%)]\tLoss: 0.266448\n",
      "Train Epoch: 3 [39040/60000 (65%)]\tLoss: 0.331636\n",
      "Train Epoch: 3 [39680/60000 (66%)]\tLoss: 0.186592\n",
      "Train Epoch: 3 [40320/60000 (67%)]\tLoss: 0.239517\n",
      "Train Epoch: 3 [40960/60000 (68%)]\tLoss: 0.404894\n",
      "Train Epoch: 3 [41600/60000 (69%)]\tLoss: 0.287182\n",
      "Train Epoch: 3 [42240/60000 (70%)]\tLoss: 0.337248\n",
      "Train Epoch: 3 [42880/60000 (71%)]\tLoss: 0.327144\n",
      "Train Epoch: 3 [43520/60000 (72%)]\tLoss: 0.567619\n",
      "Train Epoch: 3 [44160/60000 (74%)]\tLoss: 0.090391\n",
      "Train Epoch: 3 [44800/60000 (75%)]\tLoss: 0.287169\n",
      "Train Epoch: 3 [45440/60000 (76%)]\tLoss: 0.220138\n",
      "Train Epoch: 3 [46080/60000 (77%)]\tLoss: 0.283436\n",
      "Train Epoch: 3 [46720/60000 (78%)]\tLoss: 0.181407\n",
      "Train Epoch: 3 [47360/60000 (79%)]\tLoss: 0.196432\n",
      "Train Epoch: 3 [48000/60000 (80%)]\tLoss: 0.404374\n",
      "Train Epoch: 3 [48640/60000 (81%)]\tLoss: 0.135686\n",
      "Train Epoch: 3 [49280/60000 (82%)]\tLoss: 0.278884\n",
      "Train Epoch: 3 [49920/60000 (83%)]\tLoss: 0.365734\n",
      "Train Epoch: 3 [50560/60000 (84%)]\tLoss: 0.262365\n",
      "Train Epoch: 3 [51200/60000 (85%)]\tLoss: 0.452304\n",
      "Train Epoch: 3 [51840/60000 (86%)]\tLoss: 0.501879\n",
      "Train Epoch: 3 [52480/60000 (87%)]\tLoss: 0.569027\n",
      "Train Epoch: 3 [53120/60000 (88%)]\tLoss: 0.228023\n",
      "Train Epoch: 3 [53760/60000 (90%)]\tLoss: 0.245199\n",
      "Train Epoch: 3 [54400/60000 (91%)]\tLoss: 0.161861\n",
      "Train Epoch: 3 [55040/60000 (92%)]\tLoss: 0.218236\n",
      "Train Epoch: 3 [55680/60000 (93%)]\tLoss: 0.254538\n",
      "Train Epoch: 3 [56320/60000 (94%)]\tLoss: 0.386758\n",
      "Train Epoch: 3 [56960/60000 (95%)]\tLoss: 0.334391\n",
      "Train Epoch: 3 [57600/60000 (96%)]\tLoss: 0.200308\n",
      "Train Epoch: 3 [58240/60000 (97%)]\tLoss: 0.302459\n",
      "Train Epoch: 3 [58880/60000 (98%)]\tLoss: 0.295093\n",
      "Train Epoch: 3 [59520/60000 (99%)]\tLoss: 0.283061\n",
      "\n",
      "Test set: Avg. loss: 0.0926, Accuracy: 9708/10000 (97%)\n",
      "\n"
     ]
    }
   ],
   "source": [
    "test()\n",
    "for epoch in range(1, n_epochs + 1):\n",
    "  train(epoch)\n",
    "  test()"
   ]
  }
 ],
 "metadata": {
  "kernelspec": {
   "display_name": "Python 3.11.3 ('AI')",
   "language": "python",
   "name": "python3"
  },
  "language_info": {
   "codemirror_mode": {
    "name": "ipython",
    "version": 3
   },
   "file_extension": ".py",
   "mimetype": "text/x-python",
   "name": "python",
   "nbconvert_exporter": "python",
   "pygments_lexer": "ipython3",
   "version": "3.11.3"
  },
  "orig_nbformat": 4,
  "vscode": {
   "interpreter": {
    "hash": "108ff893256932b51fb9397ad1cdaaba1427c90ad66f7f7ae15d0068584d3f6a"
   }
  }
 },
 "nbformat": 4,
 "nbformat_minor": 2
}
