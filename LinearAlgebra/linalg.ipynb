{
 "cells": [
  {
   "cell_type": "markdown",
   "metadata": {},
   "source": [
    "# Geometric Intuitions & Computational Insights\n",
    "(Mostly numpy insights)"
   ]
  },
  {
   "cell_type": "code",
   "execution_count": 37,
   "metadata": {},
   "outputs": [],
   "source": [
    "import numpy as np\n",
    "import matplotlib.pyplot as plt\n",
    "import numpy as np\n",
    "from mpl_toolkits.mplot3d import Axes3D\n"
   ]
  },
  {
   "cell_type": "markdown",
   "metadata": {},
   "source": [
    "## Hadamard Product\n",
    "numpy's np.multiply() function returns the Hadamard Product (element-wise). \n",
    "\n",
    "The * operator can be used as a shorthand for np.multiply on ndarrays. \n",
    "\n",
    "**Don't confuse it for matrix multiplication operation**"
   ]
  },
  {
   "cell_type": "code",
   "execution_count": 38,
   "metadata": {},
   "outputs": [
    {
     "name": "stdout",
     "output_type": "stream",
     "text": [
      "A*B: \n",
      "[[1 0 3]\n",
      " [0 1 0]]\n"
     ]
    }
   ],
   "source": [
    "A = np.array([[1, 2, 3],\n",
    "              [0, 1, 0]])\n",
    "B = np.array([[1, 0, 1], \n",
    "              [0, 1, 1]])\n",
    "print(\"A*B: \") \n",
    "print(A*B)"
   ]
  },
  {
   "cell_type": "markdown",
   "metadata": {},
   "source": [
    "# Norms\n",
    "\n",
    "Formally, $L_p$ norm is defined as:\n",
    "$$\\|\\boldsymbol{x}\\|_p=\\left(\\sum_i\\left|x_i\\right|^p\\right)^{\\frac{1}{p}}$$\n"
   ]
  },
  {
   "cell_type": "markdown",
   "metadata": {},
   "source": [
    "## $L_1$ Norm\n",
    "The $L_1$ norm is commonly used in machine learning when the diﬀerence between zero and nonzero elements is very important. Every time an element of x moves away from 0 by $\\epsilon$, the $L_1$ norm increases by $\\epsilon$."
   ]
  },
  {
   "cell_type": "code",
   "execution_count": 39,
   "metadata": {},
   "outputs": [
    {
     "name": "stdout",
     "output_type": "stream",
     "text": [
      "a: \n",
      "[1 4 2]\n",
      "L1 norm of a, l1norm = 7\n",
      "np.linalg.norm(a, ord=1) == l1norm: True\n"
     ]
    }
   ],
   "source": [
    "# L_1 norm for vectors\n",
    "a = np.array([1, 4, 2])\n",
    "print(\"a: \")\n",
    "print(a)\n",
    "l1norm = (sum(list(map(lambda n: n, np.nditer(a)))))\n",
    "print(\"L1 norm of a, l1norm = \" + str(l1norm))\n",
    "print(\"np.linalg.norm(a, ord=1) == l1norm: \" + str(np.linalg.norm(a, ord=1) == l1norm))\n"
   ]
  },
  {
   "cell_type": "markdown",
   "metadata": {},
   "source": [
    "## $L_2$ Norm\n",
    "The $L_2$ norm is known as the Euclidean norm, which is simply the Euclidean distance from the origin to the point identiﬁed by x. \n",
    "\n",
    "Denoted simply as $||x||$ with the subscript 2 omitted. \n",
    "\n",
    "**Numpy's np.linalg.norm() function defaults to $L_2$ norm for vectors and Frobenius norm for matricies**\n",
    "\n",
    "## Frobenius Norm\n",
    "$$\\|A\\|_F=\\sqrt{\\sum_{i, j} A_{i, j}^2}$$\n",
    "Analogous to the $L_2$ norm of a vector, but if you instead stacked all elements into a vector"
   ]
  },
  {
   "cell_type": "code",
   "execution_count": 40,
   "metadata": {},
   "outputs": [
    {
     "name": "stdout",
     "output_type": "stream",
     "text": [
      "b: \n",
      "[1 0 2]\n",
      "L2 norm of b, l2norm = 2.23606797749979\n",
      "np.linalg.norm(b) == l2norm: True\n",
      "\n",
      "\n",
      "M: \n",
      "[[1 2 3]\n",
      " [0 1 0]]\n",
      "Fronebius norm of M, frnorm = 3.872983346207417\n",
      "np.linalg.norm(M) == frnorm: True\n"
     ]
    }
   ],
   "source": [
    "# numpy defaults to L_2 norm for vectors\n",
    "b = np.array([1, 0, 2])\n",
    "print(\"b: \")\n",
    "print(b)\n",
    "l2norm = (sum(list(map(lambda n: n ** 2, np.nditer(b))))**0.5)\n",
    "print(\"L2 norm of b, l2norm = \" + str(l2norm))\n",
    "print(\"np.linalg.norm(b) == l2norm: \" + str(np.linalg.norm(b) == l2norm))\n",
    "print(\"\\n\")\n",
    "\n",
    "# numpy defaults to Frobenius norm for matricies\n",
    "M = np.array([[1, 2, 3],\n",
    "              [0, 1, 0]])\n",
    "print(\"M: \")\n",
    "print(M)\n",
    "frnorm = (sum(list(map(lambda n: n ** 2, np.nditer(M))))**0.5)\n",
    "print(\"Fronebius norm of M, frnorm = \" + str(frnorm))\n",
    "print(\"np.linalg.norm(M) == frnorm: \"+str(np.linalg.norm(M) == frnorm))\n"
   ]
  },
  {
   "cell_type": "markdown",
   "metadata": {},
   "source": [
    "It is also common to measure the size of a vector using the **squared** $L_2$ norm, which can be calculated simply as $x^Tx$."
   ]
  },
  {
   "cell_type": "code",
   "execution_count": 41,
   "metadata": {},
   "outputs": [
    {
     "name": "stdout",
     "output_type": "stream",
     "text": [
      "Squared L2 norm of b, or b transpose b: 5\n",
      "np.isclose(np.linalg.norm(b)**2, b.T.dot(b)):\n",
      "True\n"
     ]
    }
   ],
   "source": [
    "print(\"Squared L2 norm of b, or b transpose b: \" + str(b.T.dot(b)))\n",
    "print(\"np.isclose(np.linalg.norm(b)**2, b.T.dot(b)):\\n\" +\n",
    "      str(np.isclose(np.linalg.norm(b)**2, b.T.dot(b))))\n"
   ]
  },
  {
   "cell_type": "markdown",
   "metadata": {},
   "source": [
    "## \"$L_0$ Norm\"\n",
    "We sometimes measure the size of the vector by counting its number of nonzero elements. Some authors refer to this function as the “$L_0$ norm,” but this is incorrect terminology. The number of nonzero entries in a vector is not a norm, because scaling the vector by $α$ does not change the number of nonzero entries. The $L_0$ norm is often used as a substitute for the number of nonzero entries."
   ]
  },
  {
   "cell_type": "code",
   "execution_count": 42,
   "metadata": {},
   "outputs": [
    {
     "name": "stdout",
     "output_type": "stream",
     "text": [
      "b: \n",
      "[1 0 2]\n",
      "L0 norm of b, l0norm_b = 2\n",
      "np.linalg.norm(b, ord=0) == l0norm_b\n",
      "True\n",
      "\n",
      "\n",
      "M: \n",
      "[[1 2 3]\n",
      " [0 1 0]]\n",
      "L0 norm of M, l0norm_M = 4\n",
      "Invalid norm order for matrices.\n"
     ]
    }
   ],
   "source": [
    "# numpy norm function with ord=0 gives L_0 norm for vectors\n",
    "print(\"b: \")\n",
    "print(b)\n",
    "l0norm_b = (sum(list(map(lambda n: 1 if n != 0 else 0, np.nditer(b)))))\n",
    "print(\"L0 norm of b, l0norm_b = \" + str(l0norm_b))\n",
    "print(\"np.linalg.norm(b, ord=0) == l0norm_b\\n\" +\n",
    "      str(np.linalg.norm(b, ord=0) == l0norm_b))\n",
    "\n",
    "print('\\n')\n",
    "\n",
    "print(\"M: \")\n",
    "print(M)\n",
    "l0norm_M = (sum(list(map(lambda n: 1 if n != 0 else 0, np.nditer(M)))))\n",
    "print(\"L0 norm of M, l0norm_M = \" + str(l0norm_M))\n",
    "# however is undefined for matricies\n",
    "try:\n",
    "    print(\"np.linalg.norm(M, ord=0) == l0norm_M\\n\" +\n",
    "      str(np.linalg.norm(M, ord=0) == l0norm_M))\n",
    "except Exception as e:\n",
    "    print(e)\n"
   ]
  },
  {
   "cell_type": "markdown",
   "metadata": {},
   "source": [
    "The dot product of two vectors can be rewritten in terms of norms. Speciﬁcally\n",
    "$$\n",
    "\\boldsymbol{x}^{\\top} \\boldsymbol{y}=\\|\\boldsymbol{x}\\|_2\\|\\boldsymbol{y}\\|_2 \\cos \\theta\n",
    "$$\n",
    "where $θ$ is the angle between x and y"
   ]
  },
  {
   "cell_type": "code",
   "execution_count": 43,
   "metadata": {},
   "outputs": [
    {
     "name": "stdout",
     "output_type": "stream",
     "text": [
      "a: \n",
      "[1 4 2]\n",
      "b: \n",
      "[1 0 2]\n",
      "np.isclose(a.T.dot(b), np.linalg.norm(a) * np.linalg.norm(b) * np.cos(angle_between(a, b)))\n",
      "True\n",
      "Angle between a, b: 60.79406775260058 degrees\n"
     ]
    },
    {
     "data": {
      "text/plain": [
       "(-5.0, 5.0)"
      ]
     },
     "execution_count": 43,
     "metadata": {},
     "output_type": "execute_result"
    },
    {
     "data": {
      "image/png": "[encoded data removed]",
      "text/plain": [
       "<Figure size 640x480 with 1 Axes>"
      ]
     },
     "metadata": {},
     "output_type": "display_data"
    }
   ],
   "source": [
    "def unit_vector(vector):\n",
    "    \"\"\" Returns the unit vector of the vector.  \"\"\"\n",
    "    return vector / np.linalg.norm(vector)\n",
    "\n",
    "\n",
    "def angle_between(v1, v2):\n",
    "    \"\"\" Returns the angle in radians between vectors 'v1' and 'v2'::\n",
    "\n",
    "            >>> angle_between((1, 0, 0), (0, 1, 0))\n",
    "            1.5707963267948966\n",
    "            >>> angle_between((1, 0, 0), (1, 0, 0))\n",
    "            0.0\n",
    "            >>> angle_between((1, 0, 0), (-1, 0, 0))\n",
    "            3.141592653589793\n",
    "    \"\"\"\n",
    "    v1_u = unit_vector(v1)\n",
    "    v2_u = unit_vector(v2)\n",
    "    return np.arccos(np.clip(np.dot(v1_u, v2_u), -1.0, 1.0))\n",
    "\n",
    "\n",
    "def spherical_angles(vector):\n",
    "    x, y, z = vector\n",
    "    r = np.linalg.norm(vector)\n",
    "\n",
    "    # Ensure we don't divide by zero for vectors on the z axis\n",
    "    if r == 0:\n",
    "        return (0, 0)\n",
    "\n",
    "    theta = np.arctan2(y, x)  # azimuth angle\n",
    "    phi = np.arccos(z / r)  # elevation angle\n",
    "\n",
    "    return (np.degrees(theta), np.degrees(phi))  # convert to degrees\n",
    "\n",
    "print(\"a: \")\n",
    "print(a)\n",
    "print(\"b: \")\n",
    "print(b)\n",
    "\n",
    "print(\"np.isclose(a.T.dot(b), np.linalg.norm(a) * np.linalg.norm(b) * np.cos(angle_between(a, b)))\\n\" +\n",
    "      str(np.isclose(a.T.dot(b), np.linalg.norm(a) *\n",
    "          np.linalg.norm(b)*np.cos(angle_between(a, b)))))\n",
    "\n",
    "print(\"Angle between a, b: \"+str(angle_between(a,b)*180/np.pi)+\" degrees\")\n",
    "\n",
    "\n",
    "fig = plt.figure()\n",
    "ax = fig.add_subplot(111, projection='3d')\n",
    "#print(np.cross(a, b))\n",
    "#print(spherical_angles(np.cross(a,b)))\n",
    "ax.view_init(elev=-24, azim=0, roll=0)\n",
    "\n",
    "\n",
    "ax.quiver(0, 0, 0, a[0], a[1], a[2], color='b')\n",
    "ax.quiver(0, 0, 0, b[0], b[1], b[2], color='r')\n",
    "#ax.quiver(0, 0, 0, np.cross(a, b)[0], np.cross(a, b)[1], np.cross(a, b)[2], color='g')\n",
    "\n",
    "\n",
    "ax.set_xlim([-5, 5])\n",
    "ax.set_ylim([-5, 5])\n",
    "ax.set_zlim([-5, 5])\n",
    "\n",
    "\n",
    "\n"
   ]
  },
  {
   "cell_type": "markdown",
   "metadata": {},
   "source": [
    "One other norm that commonly arises in machine learning is the L∞ norm, also known as the max norm. This norm simpliﬁes to the absolute value of the element with the largest magnitude in the vector."
   ]
  },
  {
   "cell_type": "markdown",
   "metadata": {},
   "source": [
    "## Eigenstuffs\n",
    "An eigenvector of a square matrix A is a nonzero vector v such that multiplication by A alters only the scale of v:\n",
    "Av = λv."
   ]
  },
  {
   "cell_type": "code",
   "execution_count": 44,
   "metadata": {},
   "outputs": [
    {
     "name": "stdout",
     "output_type": "stream",
     "text": [
      "eigenvalues\n",
      "[ 0.         10.00000011  9.99999989]\n",
      "eigenvectors\n",
      "[[ 1.          0.70710678 -0.70710679]\n",
      " [ 0.          0.56568543 -0.56568542]\n",
      " [ 0.         -0.42426407  0.42426407]]\n"
     ]
    }
   ],
   "source": [
    "A = np.array([[0, 5, -10],\n",
    "              [0, 22, 16],\n",
    "              [0, -9, -2]])\n",
    "eigval = np.linalg.eig(A)[0]\n",
    "print(\"eigenvalues\")\n",
    "print(eigval)\n",
    "eigvec = np.linalg.eig(A)[1]\n",
    "print(\"eigenvectors\")\n",
    "print(eigvec)"
   ]
  },
  {
   "cell_type": "markdown",
   "metadata": {},
   "source": [
    "Demonstration of property Av = λv:"
   ]
  },
  {
   "cell_type": "code",
   "execution_count": 46,
   "metadata": {},
   "outputs": [
    {
     "name": "stdout",
     "output_type": "stream",
     "text": [
      "Av\n"
     ]
    },
    {
     "data": {
      "text/plain": [
       "array([ 7.07106784,  5.65685436, -4.24264073])"
      ]
     },
     "metadata": {},
     "output_type": "display_data"
    },
    {
     "name": "stdout",
     "output_type": "stream",
     "text": [
      "lambda v\n"
     ]
    },
    {
     "data": {
      "text/plain": [
       "array([ 7.07106784,  5.65685436, -4.24264073])"
      ]
     },
     "metadata": {},
     "output_type": "display_data"
    }
   ],
   "source": [
    "#Av\n",
    "print(\"Av:\")\n",
    "display(A.dot(eigvec[:,1])) \n",
    "#lambda v\n",
    "print(\"lambda v:\")\n",
    "display(eigval[1]*(eigvec[:,1]))"
   ]
  },
  {
   "cell_type": "markdown",
   "metadata": {},
   "source": [
    "### Eigendecomposition\n",
    "The eigendecomposition of A is then given by\n",
    "$$\n",
    "\\boldsymbol{A}=\\boldsymbol{V} \\operatorname{diag}(\\boldsymbol{\\lambda}) \\boldsymbol{V}^{-1}\n",
    "$$"
   ]
  },
  {
   "cell_type": "code",
   "execution_count": 49,
   "metadata": {},
   "outputs": [
    {
     "data": {
      "text/plain": [
       "array([[ 0.        ,  0.        ,  0.        ],\n",
       "       [ 0.        , 10.00000011,  0.        ],\n",
       "       [ 0.        ,  0.        ,  9.99999989]])"
      ]
     },
     "execution_count": 49,
     "metadata": {},
     "output_type": "execute_result"
    }
   ],
   "source": [
    "np.diag(eigval)"
   ]
  },
  {
   "cell_type": "code",
   "execution_count": 50,
   "metadata": {},
   "outputs": [
    {
     "name": "stdout",
     "output_type": "stream",
     "text": [
      "A\n"
     ]
    },
    {
     "data": {
      "text/plain": [
       "array([[  0,   5, -10],\n",
       "       [  0,  22,  16],\n",
       "       [  0,  -9,  -2]])"
      ]
     },
     "metadata": {},
     "output_type": "display_data"
    },
    {
     "name": "stdout",
     "output_type": "stream",
     "text": [
      "eigendecomp\n"
     ]
    },
    {
     "data": {
      "text/plain": [
       "array([[ 0.        ,  4.99999998, -9.99999989],\n",
       "       [ 0.        , 22.00000001, 16.00000007],\n",
       "       [ 0.        , -8.99999997, -2.00000005]])"
      ]
     },
     "metadata": {},
     "output_type": "display_data"
    }
   ],
   "source": [
    "print(\"A:\")\n",
    "display(A)\n",
    "print(\"eigendecomp:\")\n",
    "display(eigvec.dot(np.diag(eigval).dot(np.linalg.inv(eigvec))))"
   ]
  },
  {
   "cell_type": "markdown",
   "metadata": {},
   "source": [
    "## Singular Value Decomposition\n",
    "If a matrix is not square, the eigendecomposition is not defined, and we must use singular value decomposition instead"
   ]
  },
  {
   "cell_type": "code",
   "execution_count": null,
   "metadata": {},
   "outputs": [],
   "source": []
  }
 ],
 "metadata": {
  "kernelspec": {
   "display_name": "Python 3.11.2 64-bit",
   "language": "python",
   "name": "python3"
  },
  "language_info": {
   "codemirror_mode": {
    "name": "ipython",
    "version": 3
   },
   "file_extension": ".py",
   "mimetype": "text/x-python",
   "name": "python",
   "nbconvert_exporter": "python",
   "pygments_lexer": "ipython3",
   "version": "3.11.2"
  },
  "orig_nbformat": 4,
  "vscode": {
   "interpreter": {
    "hash": "b0fa6594d8f4cbf19f97940f81e996739fb7646882a419484c72d19e05852a7e"
   }
  }
 },
 "nbformat": 4,
 "nbformat_minor": 2
}
